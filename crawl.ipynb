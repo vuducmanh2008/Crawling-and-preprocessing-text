{
 "cells": [
  {
   "cell_type": "code",
   "execution_count": 21,
   "metadata": {
    "colab": {
     "base_uri": "https://localhost:8080/"
    },
    "id": "fZVUi2EdTo29",
    "outputId": "e2affbd8-1fbe-4448-805f-99701f4d1990",
    "tags": []
   },
   "outputs": [
    {
     "name": "stdout",
     "output_type": "stream",
     "text": [
      "Defaulting to user installation because normal site-packages is not writeable\n",
      "Requirement already satisfied: selenium in c:\\users\\manh\\appdata\\roaming\\python\\python39\\site-packages (4.1.0)\n",
      "Requirement already satisfied: trio~=0.17 in c:\\users\\manh\\appdata\\roaming\\python\\python39\\site-packages (from selenium) (0.20.0)\n",
      "Requirement already satisfied: trio-websocket~=0.9 in c:\\users\\manh\\appdata\\roaming\\python\\python39\\site-packages (from selenium) (0.9.2)\n",
      "Requirement already satisfied: urllib3[secure]~=1.26 in c:\\users\\manh\\appdata\\roaming\\python\\python39\\site-packages (from selenium) (1.26.4)\n",
      "Requirement already satisfied: attrs>=19.2.0 in c:\\users\\manh\\appdata\\roaming\\python\\python39\\site-packages (from trio~=0.17->selenium) (20.3.0)\n",
      "Requirement already satisfied: sortedcontainers in c:\\users\\manh\\appdata\\roaming\\python\\python39\\site-packages (from trio~=0.17->selenium) (2.4.0)\n",
      "Requirement already satisfied: idna in c:\\users\\manh\\appdata\\roaming\\python\\python39\\site-packages (from trio~=0.17->selenium) (2.10)\n",
      "Requirement already satisfied: cffi>=1.14 in c:\\users\\manh\\appdata\\roaming\\python\\python39\\site-packages (from trio~=0.17->selenium) (1.14.5)\n",
      "Requirement already satisfied: sniffio in c:\\users\\manh\\appdata\\roaming\\python\\python39\\site-packages (from trio~=0.17->selenium) (1.2.0)\n",
      "Requirement already satisfied: async-generator>=1.9 in c:\\users\\manh\\appdata\\roaming\\python\\python39\\site-packages (from trio~=0.17->selenium) (1.10)\n",
      "Requirement already satisfied: outcome in c:\\users\\manh\\appdata\\roaming\\python\\python39\\site-packages (from trio~=0.17->selenium) (1.1.0)\n",
      "Requirement already satisfied: wsproto>=0.14 in c:\\users\\manh\\appdata\\roaming\\python\\python39\\site-packages (from trio-websocket~=0.9->selenium) (1.0.0)\n",
      "Requirement already satisfied: pyOpenSSL>=0.14 in c:\\users\\manh\\appdata\\roaming\\python\\python39\\site-packages (from urllib3[secure]~=1.26->selenium) (22.0.0)\n",
      "Requirement already satisfied: certifi in c:\\users\\manh\\appdata\\roaming\\python\\python39\\site-packages (from urllib3[secure]~=1.26->selenium) (2020.12.5)\n",
      "Requirement already satisfied: cryptography>=1.3.4 in c:\\users\\manh\\appdata\\roaming\\python\\python39\\site-packages (from urllib3[secure]~=1.26->selenium) (36.0.1)\n",
      "Requirement already satisfied: pycparser in c:\\users\\manh\\appdata\\roaming\\python\\python39\\site-packages (from cffi>=1.14->trio~=0.17->selenium) (2.20)\n",
      "Requirement already satisfied: h11<1,>=0.9.0 in c:\\users\\manh\\appdata\\roaming\\python\\python39\\site-packages (from wsproto>=0.14->trio-websocket~=0.9->selenium) (0.13.0)\n"
     ]
    },
    {
     "name": "stderr",
     "output_type": "stream",
     "text": [
      "WARNING: Ignoring invalid distribution -ip (c:\\users\\manh\\appdata\\roaming\\python\\python39\\site-packages)\n",
      "WARNING: Ignoring invalid distribution -ip (c:\\users\\manh\\appdata\\roaming\\python\\python39\\site-packages)\n",
      "WARNING: Ignoring invalid distribution -ip (c:\\users\\manh\\appdata\\roaming\\python\\python39\\site-packages)\n",
      "WARNING: Ignoring invalid distribution -ip (c:\\users\\manh\\appdata\\roaming\\python\\python39\\site-packages)\n",
      "WARNING: Ignoring invalid distribution -ip (c:\\users\\manh\\appdata\\roaming\\python\\python39\\site-packages)\n"
     ]
    }
   ],
   "source": [
    "!pip install selenium"
   ]
  },
  {
   "cell_type": "markdown",
   "metadata": {},
   "source": [
    "**3.1 - Crawl the first 200 comments**"
   ]
  },
  {
   "cell_type": "code",
   "execution_count": 22,
   "metadata": {},
   "outputs": [],
   "source": [
    "import os\n",
    "import time\n",
    "from selenium import webdriver\n",
    "\n",
    "options = webdriver.ChromeOptions()\n",
    "options.add_experimental_option('excludeSwitches', ['enable-logging'])\n",
    "driver = webdriver.Chrome(options=options)\n",
    "\n",
    "# Đường link youtube\n",
    "link_youtube = \"https://www.youtube.com/watch?v=6Q7mfthgMAU\"\n",
    "driver.get(link_youtube)"
   ]
  },
  {
   "cell_type": "code",
   "execution_count": 23,
   "metadata": {
    "id": "voZ2gIY9qfiT"
   },
   "outputs": [],
   "source": [
    "# cuộn trang\n",
    "time.sleep(3)\n",
    "driver.execute_script(\"window.scrollTo(0,500)\")\n",
    "time.sleep(3)\n",
    "\n",
    "scroll = 0\n",
    "for i in range(20):\n",
    "  scroll += 1500\n",
    "  driver.execute_script(\"window.scrollTo(0,{})\".format(scroll))\n",
    "  time.sleep(2)"
   ]
  },
  {
   "cell_type": "code",
   "execution_count": 24,
   "metadata": {
    "colab": {
     "base_uri": "https://localhost:8080/"
    },
    "id": "EOB01YsHqfkw",
    "outputId": "ad7676b2-32ec-4969-93a6-827cdb3310b0"
   },
   "outputs": [
    {
     "name": "stdout",
     "output_type": "stream",
     "text": [
      "Đến cuối cùng thì chiếc CUP lớn nhất và quan trọng nhất đối với MU chính là chiếc CUP trong lòng NHM: đầu mùa nhuộm đỏ trời Âu, cuối mùa nhuộm đỏ hang sâu ngõ cùng. Thật sự xúc động khi được nhìn thấy các CĐV MU tri ân HLV Diego Simeone sau trận đấu 😢\n",
      "Không phải fan ATM nhưng thấy thắng MU là mình rất thích 🤣🤣🤣🤣\n",
      "Ở Simone luôn có nhiệt huyết và độ quái từ khi còn là cầu thủ. Có thể thấy Simone khi là HLV thì luôn làm cho các cầu thủ Nể và có phần Sợ nên luôn giúp các cầu thủ thi đấu đông lòng và không đòi hỏi đi hay ở.\n",
      "Đúng là câu nói hằng năm với MU “đầu mùa ăn 6 , giữa mùa ăn 3 , cuối mùa còn cái nịt”. Và thế là cuối cùng với MU “Chiếc cúp trong lòng người hâm mộ là chiếc cúp quý giá nhất”\n",
      "Chúc mừng Aletico Marid , họ là những  ng xứng đáng , MU chơi v là hay rồi nhưng chỉ kém may mắn trong những cơ hội tấn công mà thôi , không sao cả nếu năm nay không đi tiếp được ta vẫn còn những năm sau để trở lại những thời hoàng kim ngày trước .Mãi yêu MANCHESTER UNITED :3\n",
      "Chúc mừng Atletico . Chúc mừng các bạn giành vé đi tiếp , các bạn xứng đáng hơn MU rất nhiều 👍\n",
      "Hàng thủ rất ổn định trận nào cũng thủng lưới đều đều 1 phong độ quá ổn\n",
      "2:20 Elanga sút cận thành trúng đầu Oblak, quá đáng tiếc 😣\n",
      "3:50 Felix ghi bàn nhưng trước đó marcos Llorente đã việt vị 😬\n",
      "4:22 Griezmann tạt bóng 1 chạm, Lodi đánh đầu vào góc gần mở tỷ số, lỗi kèm ng của Dalot 😑\n",
      "Phong độ là nhất thời đẳng cấp là những gì Atletico thể hiện\n",
      "đáng ra nên giữ đội hình tương tự hôm trước. Matic vào thay cho Mc tominnay còn Pogba thay cho bruno. Matic chuyền bóng vẫn là khác biệt hơn. Bruno thì tấn công hay rồi nma về phòng thủ thì không đóng góp gì mấy.\n"
     ]
    }
   ],
   "source": [
    "# cào dữ liệu\n",
    "from selenium.webdriver.common.by import By\n",
    "craw = driver.find_elements(By.XPATH, \"//yt-formatted-string[@id='content-text']\")\n",
    "comments = list(map(lambda x: x.text, craw))\n",
    "comments.pop(0)\n",
    "for i in range(10):\n",
    "    print(comments[i])"
   ]
  },
  {
   "cell_type": "code",
   "execution_count": 25,
   "metadata": {
    "id": "cZlg-fdRqfnH"
   },
   "outputs": [
    {
     "name": "stdout",
     "output_type": "stream",
     "text": [
      "Đã lưu data vào file data_ex3.csv\n"
     ]
    }
   ],
   "source": [
    "# lưu data\n",
    "import pandas as pd\n",
    "data = []\n",
    "comments = comments[:200]\n",
    "df = pd.DataFrame({'comment': comments})\n",
    "df.to_csv('./data/data.csv', encoding=\"utf-8-sig\")\n",
    "data = data + comments\n",
    "print(\"Đã lưu data vào file data_ex3.csv\")"
   ]
  }
 ],
 "metadata": {
  "accelerator": "GPU",
  "colab": {
   "collapsed_sections": [],
   "name": "ex3",
   "provenance": []
  },
  "kernelspec": {
   "display_name": "Python 3",
   "language": "python",
   "name": "python3"
  },
  "language_info": {
   "codemirror_mode": {
    "name": "ipython",
    "version": 3
   },
   "file_extension": ".py",
   "mimetype": "text/x-python",
   "name": "python",
   "nbconvert_exporter": "python",
   "pygments_lexer": "ipython3",
   "version": "3.9.4"
  }
 },
 "nbformat": 4,
 "nbformat_minor": 4
}
