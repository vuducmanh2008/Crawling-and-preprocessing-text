{
 "cells": [
  {
   "cell_type": "markdown",
   "id": "146641c4-9c28-416e-8fae-76883fdb4d7d",
   "metadata": {},
   "source": [
    "**3.2 - Apply text preprocessing techniques and TF-IDF for feature extraction of the first 200 comments**"
   ]
  },
  {
   "cell_type": "code",
   "execution_count": 1,
   "id": "74292f76-b3a8-4c25-88eb-f2c69091073d",
   "metadata": {
    "tags": []
   },
   "outputs": [
    {
     "name": "stdout",
     "output_type": "stream",
     "text": [
      "Defaulting to user installation because normal site-packages is not writeable\n",
      "Requirement already satisfied: underthesea in c:\\users\\manh\\appdata\\roaming\\python\\python39\\site-packages (1.3.4)\n",
      "Requirement already satisfied: requests in c:\\users\\manh\\appdata\\roaming\\python\\python39\\site-packages (from underthesea) (2.25.1)\n",
      "Requirement already satisfied: PyYAML in c:\\users\\manh\\appdata\\roaming\\python\\python39\\site-packages (from underthesea) (6.0)\n",
      "Requirement already satisfied: python-crfsuite>=0.9.6 in c:\\users\\manh\\appdata\\roaming\\python\\python39\\site-packages (from underthesea) (0.9.8)\n",
      "Requirement already satisfied: joblib in c:\\users\\manh\\appdata\\roaming\\python\\python39\\site-packages (from underthesea) (1.0.0)\n",
      "Requirement already satisfied: nltk in c:\\users\\manh\\appdata\\roaming\\python\\python39\\site-packages (from underthesea) (3.6.5)\n",
      "Requirement already satisfied: unidecode in c:\\users\\manh\\appdata\\roaming\\python\\python39\\site-packages (from underthesea) (1.3.2)\n",
      "Requirement already satisfied: Click>=6.0 in c:\\users\\manh\\appdata\\roaming\\python\\python39\\site-packages (from underthesea) (7.1.2)\n",
      "Requirement already satisfied: tqdm in c:\\users\\manh\\appdata\\roaming\\python\\python39\\site-packages (from underthesea) (4.62.3)\n",
      "Requirement already satisfied: scikit-learn in c:\\users\\manh\\appdata\\roaming\\python\\python39\\site-packages (from underthesea) (0.24.0)\n",
      "Requirement already satisfied: underthesea-core==0.0.4_alpha.10 in c:\\users\\manh\\appdata\\roaming\\python\\python39\\site-packages (from underthesea) (0.0.4a10)\n",
      "Requirement already satisfied: regex>=2021.8.3 in c:\\users\\manh\\appdata\\roaming\\python\\python39\\site-packages (from nltk->underthesea) (2021.10.21)\n",
      "Requirement already satisfied: idna<3,>=2.5 in c:\\users\\manh\\appdata\\roaming\\python\\python39\\site-packages (from requests->underthesea) (2.10)\n",
      "Requirement already satisfied: urllib3<1.27,>=1.21.1 in c:\\users\\manh\\appdata\\roaming\\python\\python39\\site-packages (from requests->underthesea) (1.26.4)\n",
      "Requirement already satisfied: certifi>=2017.4.17 in c:\\users\\manh\\appdata\\roaming\\python\\python39\\site-packages (from requests->underthesea) (2020.12.5)\n",
      "Requirement already satisfied: chardet<5,>=3.0.2 in c:\\users\\manh\\appdata\\roaming\\python\\python39\\site-packages (from requests->underthesea) (4.0.0)\n",
      "Requirement already satisfied: threadpoolctl>=2.0.0 in c:\\users\\manh\\appdata\\roaming\\python\\python39\\site-packages (from scikit-learn->underthesea) (2.1.0)\n",
      "Requirement already satisfied: numpy>=1.13.3 in c:\\users\\manh\\appdata\\roaming\\python\\python39\\site-packages (from scikit-learn->underthesea) (1.19.5)\n",
      "Requirement already satisfied: scipy>=0.19.1 in c:\\users\\manh\\appdata\\roaming\\python\\python39\\site-packages (from scikit-learn->underthesea) (1.6.0)\n",
      "Requirement already satisfied: colorama in c:\\users\\manh\\appdata\\roaming\\python\\python39\\site-packages (from tqdm->underthesea) (0.4.4)\n"
     ]
    },
    {
     "name": "stderr",
     "output_type": "stream",
     "text": [
      "WARNING: Ignoring invalid distribution -ip (c:\\users\\manh\\appdata\\roaming\\python\\python39\\site-packages)\n",
      "WARNING: Ignoring invalid distribution -ip (c:\\users\\manh\\appdata\\roaming\\python\\python39\\site-packages)\n",
      "WARNING: Ignoring invalid distribution -ip (c:\\users\\manh\\appdata\\roaming\\python\\python39\\site-packages)\n",
      "WARNING: Ignoring invalid distribution -ip (c:\\users\\manh\\appdata\\roaming\\python\\python39\\site-packages)\n",
      "WARNING: Ignoring invalid distribution -ip (c:\\users\\manh\\appdata\\roaming\\python\\python39\\site-packages)\n"
     ]
    }
   ],
   "source": [
    "!pip install underthesea"
   ]
  },
  {
   "cell_type": "code",
   "execution_count": 2,
   "id": "08819a7b-6b15-4991-9ddc-27117d02b2e6",
   "metadata": {},
   "outputs": [
    {
     "data": {
      "text/html": [
       "<div>\n",
       "<style scoped>\n",
       "    .dataframe tbody tr th:only-of-type {\n",
       "        vertical-align: middle;\n",
       "    }\n",
       "\n",
       "    .dataframe tbody tr th {\n",
       "        vertical-align: top;\n",
       "    }\n",
       "\n",
       "    .dataframe thead th {\n",
       "        text-align: right;\n",
       "    }\n",
       "</style>\n",
       "<table border=\"1\" class=\"dataframe\">\n",
       "  <thead>\n",
       "    <tr style=\"text-align: right;\">\n",
       "      <th></th>\n",
       "      <th>comment</th>\n",
       "    </tr>\n",
       "  </thead>\n",
       "  <tbody>\n",
       "    <tr>\n",
       "      <th>0</th>\n",
       "      <td>Đến cuối cùng thì chiếc CUP lớn nhất và quan trọng nhất đối với MU chính là chiếc CUP trong lòng NHM: đầu mùa nhuộm ...</td>\n",
       "    </tr>\n",
       "    <tr>\n",
       "      <th>1</th>\n",
       "      <td>Không phải fan ATM nhưng thấy thắng MU là mình rất thích 🤣🤣🤣🤣</td>\n",
       "    </tr>\n",
       "    <tr>\n",
       "      <th>2</th>\n",
       "      <td>Ở Simone luôn có nhiệt huyết và độ quái từ khi còn là cầu thủ. Có thể thấy Simone khi là HLV thì luôn làm cho các cầ...</td>\n",
       "    </tr>\n",
       "    <tr>\n",
       "      <th>3</th>\n",
       "      <td>Đúng là câu nói hằng năm với MU “đầu mùa ăn 6 , giữa mùa ăn 3 , cuối mùa còn cái nịt”. Và thế là cuối cùng với MU “C...</td>\n",
       "    </tr>\n",
       "    <tr>\n",
       "      <th>4</th>\n",
       "      <td>Chúc mừng Aletico Marid , họ là những  ng xứng đáng , MU chơi v là hay rồi nhưng chỉ kém may mắn trong những cơ hội ...</td>\n",
       "    </tr>\n",
       "  </tbody>\n",
       "</table>\n",
       "</div>"
      ],
      "text/plain": [
       "                                                                                                                   comment\n",
       "0  Đến cuối cùng thì chiếc CUP lớn nhất và quan trọng nhất đối với MU chính là chiếc CUP trong lòng NHM: đầu mùa nhuộm ...\n",
       "1                                                            Không phải fan ATM nhưng thấy thắng MU là mình rất thích 🤣🤣🤣🤣\n",
       "2  Ở Simone luôn có nhiệt huyết và độ quái từ khi còn là cầu thủ. Có thể thấy Simone khi là HLV thì luôn làm cho các cầ...\n",
       "3  Đúng là câu nói hằng năm với MU “đầu mùa ăn 6 , giữa mùa ăn 3 , cuối mùa còn cái nịt”. Và thế là cuối cùng với MU “C...\n",
       "4  Chúc mừng Aletico Marid , họ là những  ng xứng đáng , MU chơi v là hay rồi nhưng chỉ kém may mắn trong những cơ hội ..."
      ]
     },
     "execution_count": 2,
     "metadata": {},
     "output_type": "execute_result"
    }
   ],
   "source": [
    "import numpy as np\n",
    "import pandas as pd\n",
    "import re\n",
    "import nltk\n",
    "import string\n",
    "\n",
    "pd.set_option('display.max_colwidth',120) \n",
    "df = pd.read_csv(\"./data/data.csv\",encoding='utf-8')\n",
    "df = df.drop(['Unnamed: 0'], axis=1)\n",
    "df.head()"
   ]
  },
  {
   "cell_type": "code",
   "execution_count": 3,
   "id": "f731f4b8-bb96-4513-9d48-6b7d033d55ca",
   "metadata": {},
   "outputs": [
    {
     "data": {
      "text/plain": [
       "200"
      ]
     },
     "execution_count": 3,
     "metadata": {},
     "output_type": "execute_result"
    }
   ],
   "source": [
    "len(df)"
   ]
  },
  {
   "cell_type": "markdown",
   "id": "98b9d999-12b6-41e4-8972-e9aadda80abc",
   "metadata": {},
   "source": [
    "**Tiền xử lý dữ liệu**"
   ]
  },
  {
   "cell_type": "code",
   "execution_count": 4,
   "id": "4b2a2a43-4c6b-4b6d-b082-281c13569bf4",
   "metadata": {},
   "outputs": [
    {
     "data": {
      "text/plain": [
       "0    đến cuối cùng thì chiếc cup lớn nhất và quan trọng nhất đối với mu chính là chiếc cup trong lòng nhm: đầu mùa nhuộm ...\n",
       "1                                                              không phải fan atm nhưng thấy thắng mu là mình rất thích 🤣🤣🤣🤣\n",
       "2    ở simone luôn có nhiệt huyết và độ quái từ khi còn là cầu thủ. có thể thấy simone khi là hlv thì luôn làm cho các cầ...\n",
       "3    đúng là câu nói hằng năm với mu “đầu mùa ăn 6 , giữa mùa ăn 3 , cuối mùa còn cái nịt”. và thế là cuối cùng với mu “c...\n",
       "4    chúc mừng aletico marid , họ là những  ng xứng đáng , mu chơi v là hay rồi nhưng chỉ kém may mắn trong những cơ hội ...\n",
       "Name: lowercase, dtype: object"
      ]
     },
     "execution_count": 4,
     "metadata": {},
     "output_type": "execute_result"
    }
   ],
   "source": [
    "# Chuyển từ in hoa thành in thường\n",
    "df['lowercase'] = df['comment'].str.lower()\n",
    "df['lowercase'].head()"
   ]
  },
  {
   "cell_type": "code",
   "execution_count": 5,
   "id": "739befa6-5791-4d63-95a3-51c5ea41612f",
   "metadata": {},
   "outputs": [
    {
     "name": "stderr",
     "output_type": "stream",
     "text": [
      "<ipython-input-5-c22f18f3d58d>:2: FutureWarning: The default value of regex will change from True to False in a future version.\n",
      "  df['re_char'] = df['lowercase'].str.replace('[^\\w\\s]','')\n",
      "<ipython-input-5-c22f18f3d58d>:3: FutureWarning: The default value of regex will change from True to False in a future version.\n",
      "  df['re_num'] = df['re_char'].str.replace('\\d','')\n"
     ]
    },
    {
     "data": {
      "text/plain": [
       "0    đến cuối cùng thì chiếc cup lớn nhất và quan trọng nhất đối với mu chính là chiếc cup trong lòng nhm đầu mùa nhuộm đ...\n",
       "1                                                                  không phải fan atm nhưng thấy thắng mu là mình rất thích \n",
       "2    ở simone luôn có nhiệt huyết và độ quái từ khi còn là cầu thủ có thể thấy simone khi là hlv thì luôn làm cho các cầu...\n",
       "3    đúng là câu nói hằng năm với mu đầu mùa ăn   giữa mùa ăn   cuối mùa còn cái nịt và thế là cuối cùng với mu chiếc cúp...\n",
       "4    chúc mừng aletico marid  họ là những  ng xứng đáng  mu chơi v là hay rồi nhưng chỉ kém may mắn trong những cơ hội tấ...\n",
       "Name: re_num, dtype: object"
      ]
     },
     "execution_count": 5,
     "metadata": {},
     "output_type": "execute_result"
    }
   ],
   "source": [
    "# Xóa bỏ kí tự đặc biệt và số\n",
    "df['re_char'] = df['lowercase'].str.replace('[^\\w\\s]','')\n",
    "df['re_num'] = df['re_char'].str.replace('\\d','')\n",
    "df['re_num'].head()"
   ]
  },
  {
   "cell_type": "code",
   "execution_count": 6,
   "id": "cb972192-d656-4a08-a623-dfa53548d93e",
   "metadata": {},
   "outputs": [
    {
     "data": {
      "text/plain": [
       "0    [đến, cuối cùng, thì, chiếc, cup, lớn, nhất, và, quan trọng, nhất, đối với, mu, chính, là, chiếc, cup, trong, lòng, ...\n",
       "1                                                      [không, phải, fan, atm, nhưng, thấy, thắng, mu, là, mình, rất, thích]\n",
       "2    [ở, simone, luôn, có, nhiệt huyết, và, độ, quái, từ, khi, còn, là, cầu thủ, có thể, thấy, simone, khi, là, hlv, thì,...\n",
       "3    [đúng, là, câu, nói, hằng, năm, với, mu, đầu, mùa, ăn, giữa, mùa, ăn, cuối, mùa, còn, cái, nịt, và, thế là, cuối cùn...\n",
       "4    [chúc mừng, aletico, marid, họ, là, những, ng, xứng đáng, mu, chơi, v, là, hay, rồi, nhưng, chỉ, kém, may mắn, trong...\n",
       "5                  [chúc mừng, atletico, chúc mừng, các, bạn, giành, vé, đi, tiếp, các, bạn, xứng đáng, hơn, mu, rất, nhiều]\n",
       "6                                         [hàng, thủ, rất, ổn định, trận, nào, cũng, thủng lưới, đều đều, phong độ, quá, ổn]\n",
       "7    [elanga, sút, cận, thành, trúng, đầu, oblak, quá, đáng, tiếc, felix, ghi bàn, nhưng, trước, đó, marcos, llorente, đã...\n",
       "8                                                     [phong độ, là, nhất thời, đẳng cấp, là, những, gì, atletico, thể hiện]\n",
       "9    [đáng, ra, nên, giữ, đội hình, tương tự, hôm, trước, matic, vào, thay, cho, mc, tominnay, còn, pogba, thay, cho, bru...\n",
       "Name: word_token, dtype: object"
      ]
     },
     "execution_count": 6,
     "metadata": {},
     "output_type": "execute_result"
    }
   ],
   "source": [
    "# Tách từ\n",
    "from underthesea import word_tokenize\n",
    "df['word_token'] = df['re_num'].apply(lambda x: word_tokenize(x))\n",
    "df['word_token'].head(10)"
   ]
  },
  {
   "cell_type": "code",
   "execution_count": 7,
   "id": "564554bd-1837-482f-ace5-c9d71713b435",
   "metadata": {},
   "outputs": [
    {
     "name": "stdout",
     "output_type": "stream",
     "text": [
      "a lô\n",
      "a ha\n",
      "ai\n",
      "ai ai\n",
      "ai nấy\n",
      "ai đó\n",
      "alô\n",
      "amen\n",
      "anh\n",
      "anh ấy\n"
     ]
    }
   ],
   "source": [
    "#stop word\n",
    "with open('./data/stopwords.txt', 'r', encoding='UTF-8') as f:\n",
    "    stop_word = [s.strip() for s in f.readlines()]\n",
    "for i in range(10):\n",
    "    print(stop_word[i])"
   ]
  },
  {
   "cell_type": "code",
   "execution_count": 8,
   "id": "87e6bd3e-6917-4a98-8e46-ab19c8bcdf36",
   "metadata": {
    "tags": []
   },
   "outputs": [
    {
     "data": {
      "text/plain": [
       "0    [cup, mu, cup, nhm, đầu, mùa, nhuộm, đỏ, trời, âu, mùa, nhuộm, đỏ, hang, sâu, ngõ, xúc động, cđv, mu, tri ân, hlv, d...\n",
       "1                                                                                                      [fan, atm, thắng, mu]\n",
       "2          [simone, nhiệt huyết, độ, quái, cầu thủ, simone, hlv, cầu thủ, nể, sợ, giúp, cầu thủ, thi đấu, đông, đòi hỏi, đi]\n",
       "3                                                    [câu, hằng, mu, đầu, mùa, mùa, mùa, nịt, mu, cúp, hâm mộ, cúp, quý giá]\n",
       "4    [chúc mừng, aletico, marid, ng, xứng đáng, mu, v, kém, may mắn, tấn công, đi, tiếp, ta, trở lại, thời, hoàng kim, mã...\n",
       "5                                                       [chúc mừng, atletico, chúc mừng, giành, vé, đi, tiếp, xứng đáng, mu]\n",
       "6                                                                       [hàng, thủ, ổn định, trận, thủng lưới, phong độ, ổn]\n",
       "7    [elanga, sút, cận, thành, trúng, đầu, oblak, tiếc, felix, ghi bàn, marcos, llorente, việt vị, griezmann, tạt, bóng, ...\n",
       "8                                                                        [phong độ, nhất thời, đẳng cấp, atletico, thể hiện]\n",
       "9    [đội hình, tương tự, hôm, matic, thay, mc, tominnay, pogba, thay, bruno, matic, chuyền, bóng, khác biệt, bruno, tấn ...\n",
       "Name: word_token, dtype: object"
      ]
     },
     "execution_count": 8,
     "metadata": {},
     "output_type": "execute_result"
    }
   ],
   "source": [
    "import copy\n",
    "for i in range(len(df['word_token'])):\n",
    "    word = copy.deepcopy(df['word_token'][i])\n",
    "    for j in range(len(word)):\n",
    "        if df['word_token'][i][j] in stop_word:\n",
    "            word.remove(df['word_token'][i][j])      \n",
    "    df['word_token'][i] = word\n",
    "df['word_token'].head(10)"
   ]
  },
  {
   "cell_type": "markdown",
   "id": "45756f86-456e-40f0-b0a5-23301ee9e5b7",
   "metadata": {},
   "source": [
    "**TF-IDF**"
   ]
  },
  {
   "cell_type": "code",
   "execution_count": 9,
   "id": "64c2f151-97c9-49e7-b718-13189f87d0d0",
   "metadata": {},
   "outputs": [],
   "source": [
    "data_tf = ' '.join([str(i) for i in df['word_token']])\n",
    "data_tf = [data_tf]"
   ]
  },
  {
   "cell_type": "code",
   "execution_count": 10,
   "id": "b915d266-02e1-400a-b8af-01b9ba9ff250",
   "metadata": {},
   "outputs": [
    {
     "data": {
      "text/plain": [
       "array([[0.01097048, 0.00548524, 0.00548524, 0.00548524, 0.00548524,\n",
       "        0.00548524, 0.0548524 , 0.03291144, 0.00548524, 0.01097048,\n",
       "        0.00548524, 0.01097048, 0.00548524, 0.00548524, 0.00548524,\n",
       "        0.00548524, 0.00548524, 0.00548524, 0.00548524, 0.06033764,\n",
       "        0.08776384, 0.00548524, 0.01097048, 0.01097048, 0.00548524,\n",
       "        0.00548524, 0.01645572, 0.00548524, 0.01097048, 0.0274262 ,\n",
       "        0.00548524, 0.03291144, 0.00548524, 0.00548524, 0.06582288,\n",
       "        0.00548524, 0.06582288, 0.00548524, 0.00548524, 0.00548524,\n",
       "        0.00548524, 0.00548524, 0.02194096, 0.19746864, 0.00548524,\n",
       "        0.00548524, 0.00548524, 0.00548524, 0.00548524, 0.01097048,\n",
       "        0.00548524, 0.01097048, 0.01097048, 0.00548524, 0.01097048,\n",
       "        0.01097048, 0.01097048, 0.01097048, 0.00548524, 0.00548524,\n",
       "        0.01097048, 0.00548524, 0.00548524, 0.00548524, 0.00548524,\n",
       "        0.00548524, 0.00548524, 0.00548524, 0.00548524, 0.00548524,\n",
       "        0.00548524, 0.01097048, 0.01097048, 0.00548524, 0.00548524,\n",
       "        0.02194096, 0.00548524, 0.01645572, 0.04388192, 0.00548524,\n",
       "        0.01097048, 0.00548524, 0.03291144, 0.00548524, 0.00548524,\n",
       "        0.00548524, 0.0274262 , 0.00548524, 0.01645572, 0.00548524,\n",
       "        0.00548524, 0.00548524, 0.12616052, 0.00548524, 0.00548524,\n",
       "        0.00548524, 0.00548524, 0.0274262 , 0.01097048, 0.00548524,\n",
       "        0.00548524, 0.02194096, 0.00548524, 0.00548524, 0.00548524,\n",
       "        0.01097048, 0.00548524, 0.00548524, 0.01097048, 0.00548524,\n",
       "        0.01645572, 0.00548524, 0.00548524, 0.00548524, 0.00548524,\n",
       "        0.00548524, 0.01097048, 0.0548524 , 0.04388192, 0.00548524,\n",
       "        0.00548524, 0.01645572, 0.00548524, 0.01097048, 0.02194096,\n",
       "        0.00548524, 0.00548524, 0.00548524, 0.00548524, 0.01645572,\n",
       "        0.01097048, 0.0822786 , 0.01097048, 0.0548524 , 0.02194096,\n",
       "        0.01645572, 0.00548524, 0.01097048, 0.00548524, 0.00548524,\n",
       "        0.00548524, 0.01097048, 0.03839668, 0.0548524 , 0.00548524,\n",
       "        0.00548524, 0.00548524, 0.00548524, 0.03291144, 0.00548524,\n",
       "        0.03291144, 0.00548524, 0.01645572, 0.01097048, 0.00548524,\n",
       "        0.01097048, 0.00548524, 0.01645572, 0.00548524, 0.00548524,\n",
       "        0.09324908, 0.01645572, 0.00548524, 0.01097048, 0.00548524,\n",
       "        0.00548524, 0.00548524, 0.00548524, 0.00548524, 0.00548524,\n",
       "        0.00548524, 0.01097048, 0.00548524, 0.00548524, 0.00548524,\n",
       "        0.01645572, 0.00548524, 0.00548524, 0.02194096, 0.0274262 ,\n",
       "        0.03839668, 0.02194096, 0.00548524, 0.01097048, 0.00548524,\n",
       "        0.00548524, 0.09873432, 0.00548524, 0.00548524, 0.00548524,\n",
       "        0.01645572, 0.00548524, 0.00548524, 0.07679336, 0.00548524,\n",
       "        0.03291144, 0.00548524, 0.00548524, 0.00548524, 0.00548524,\n",
       "        0.00548524, 0.00548524, 0.01097048, 0.0274262 , 0.00548524,\n",
       "        0.02194096, 0.00548524, 0.00548524, 0.07679336, 0.00548524,\n",
       "        0.00548524, 0.00548524, 0.03839668, 0.01645572, 0.00548524,\n",
       "        0.01097048, 0.00548524, 0.00548524, 0.00548524, 0.00548524,\n",
       "        0.01097048, 0.0548524 , 0.00548524, 0.00548524, 0.02194096,\n",
       "        0.01645572, 0.00548524, 0.01645572, 0.01097048, 0.00548524,\n",
       "        0.00548524, 0.00548524, 0.00548524, 0.00548524, 0.00548524,\n",
       "        0.00548524, 0.01645572, 0.01645572, 0.00548524, 0.01645572,\n",
       "        0.06033764, 0.00548524, 0.00548524, 0.00548524, 0.01097048,\n",
       "        0.00548524, 0.00548524, 0.01097048, 0.00548524, 0.00548524,\n",
       "        0.02194096, 0.00548524, 0.01645572, 0.00548524, 0.07130812,\n",
       "        0.00548524, 0.07679336, 0.02194096, 0.03291144, 0.00548524,\n",
       "        0.04388192, 0.00548524, 0.02194096, 0.02194096, 0.00548524,\n",
       "        0.00548524, 0.00548524, 0.00548524, 0.00548524, 0.00548524,\n",
       "        0.01645572, 0.00548524, 0.00548524, 0.00548524, 0.01097048,\n",
       "        0.03291144, 0.00548524, 0.00548524, 0.00548524, 0.01097048,\n",
       "        0.00548524, 0.01097048, 0.01097048, 0.06033764, 0.00548524,\n",
       "        0.00548524, 0.00548524, 0.00548524, 0.00548524, 0.00548524,\n",
       "        0.00548524, 0.01097048, 0.01097048, 0.01097048, 0.00548524,\n",
       "        0.00548524, 0.01097048, 0.00548524, 0.00548524, 0.01645572,\n",
       "        0.0274262 , 0.00548524, 0.01097048, 0.01097048, 0.00548524,\n",
       "        0.00548524, 0.00548524, 0.00548524, 0.00548524, 0.00548524,\n",
       "        0.01097048, 0.00548524, 0.00548524, 0.00548524, 0.12616052,\n",
       "        0.00548524, 0.01645572, 0.00548524, 0.00548524, 0.00548524,\n",
       "        0.00548524, 0.00548524, 0.04936716, 0.01645572, 0.00548524,\n",
       "        0.01097048, 0.00548524, 0.01097048, 0.00548524, 0.00548524,\n",
       "        0.01645572, 0.00548524, 0.00548524, 0.01097048, 0.01645572,\n",
       "        0.00548524, 0.00548524, 0.00548524, 0.00548524, 0.01097048,\n",
       "        0.00548524, 0.00548524, 0.01097048, 0.01097048, 0.00548524,\n",
       "        0.00548524, 0.00548524, 0.00548524, 0.00548524, 0.00548524,\n",
       "        0.00548524, 0.01645572, 0.00548524, 0.00548524, 0.00548524,\n",
       "        0.01097048, 0.00548524, 0.00548524, 0.01645572, 0.01645572,\n",
       "        0.00548524, 0.01097048, 0.00548524, 0.01097048, 0.0274262 ,\n",
       "        0.00548524, 0.01097048, 0.0274262 , 0.01097048, 0.03291144,\n",
       "        0.00548524, 0.00548524, 0.06033764, 0.00548524, 0.00548524,\n",
       "        0.06582288, 0.01645572, 0.04936716, 0.00548524, 0.00548524,\n",
       "        0.04936716, 0.02194096, 0.00548524, 0.00548524, 0.00548524,\n",
       "        0.02194096, 0.00548524, 0.01645572, 0.01645572, 0.04388192,\n",
       "        0.02194096, 0.00548524, 0.06033764, 0.01097048, 0.01097048,\n",
       "        0.00548524, 0.00548524, 0.00548524, 0.02194096, 0.00548524,\n",
       "        0.00548524, 0.56497971, 0.01097048, 0.01097048, 0.00548524,\n",
       "        0.00548524, 0.00548524, 0.00548524, 0.00548524, 0.00548524,\n",
       "        0.02194096, 0.00548524, 0.00548524, 0.00548524, 0.01097048,\n",
       "        0.03839668, 0.00548524, 0.15907196, 0.00548524, 0.0274262 ,\n",
       "        0.0274262 , 0.04388192, 0.01097048, 0.00548524, 0.01645572,\n",
       "        0.00548524, 0.02194096, 0.03291144, 0.01097048, 0.15358672,\n",
       "        0.01097048, 0.01097048, 0.01097048, 0.00548524, 0.00548524,\n",
       "        0.00548524, 0.00548524, 0.01645572, 0.00548524, 0.00548524,\n",
       "        0.00548524, 0.00548524, 0.00548524, 0.00548524, 0.00548524,\n",
       "        0.01097048, 0.00548524, 0.01645572, 0.00548524, 0.00548524,\n",
       "        0.00548524, 0.01097048, 0.00548524, 0.01645572, 0.00548524,\n",
       "        0.00548524, 0.02194096, 0.00548524, 0.01645572, 0.00548524,\n",
       "        0.00548524, 0.00548524, 0.00548524, 0.00548524, 0.00548524,\n",
       "        0.00548524, 0.00548524, 0.01097048, 0.02194096, 0.01097048,\n",
       "        0.00548524, 0.01097048, 0.02194096, 0.00548524, 0.01097048,\n",
       "        0.00548524, 0.00548524, 0.00548524, 0.01097048, 0.00548524,\n",
       "        0.00548524, 0.00548524, 0.00548524, 0.00548524, 0.00548524,\n",
       "        0.00548524, 0.01097048, 0.01097048, 0.01097048, 0.00548524,\n",
       "        0.00548524, 0.00548524, 0.00548524, 0.01645572, 0.00548524,\n",
       "        0.00548524, 0.00548524, 0.00548524, 0.00548524, 0.00548524,\n",
       "        0.02194096, 0.00548524, 0.01645572, 0.01097048, 0.00548524,\n",
       "        0.02194096, 0.00548524, 0.00548524, 0.00548524, 0.00548524,\n",
       "        0.01645572, 0.00548524, 0.00548524, 0.02194096, 0.00548524,\n",
       "        0.01097048, 0.00548524, 0.00548524, 0.03291144, 0.00548524,\n",
       "        0.01645572, 0.00548524, 0.03291144, 0.00548524, 0.00548524,\n",
       "        0.01097048, 0.00548524, 0.03839668, 0.00548524, 0.00548524,\n",
       "        0.02194096, 0.00548524, 0.01097048, 0.01645572, 0.00548524,\n",
       "        0.00548524, 0.01645572, 0.00548524, 0.01645572, 0.00548524,\n",
       "        0.01097048, 0.01645572, 0.01097048, 0.01097048, 0.01097048,\n",
       "        0.02194096, 0.00548524, 0.02194096, 0.00548524, 0.01097048,\n",
       "        0.07679336, 0.00548524, 0.00548524, 0.01645572, 0.00548524,\n",
       "        0.00548524, 0.00548524, 0.00548524, 0.00548524, 0.00548524,\n",
       "        0.0274262 , 0.01097048, 0.01097048, 0.02194096, 0.00548524,\n",
       "        0.00548524, 0.01645572, 0.01097048, 0.03291144, 0.00548524,\n",
       "        0.01097048, 0.00548524, 0.00548524, 0.00548524, 0.00548524,\n",
       "        0.00548524, 0.01097048, 0.01645572, 0.00548524, 0.01097048,\n",
       "        0.01645572, 0.0274262 , 0.01097048, 0.0548524 , 0.00548524,\n",
       "        0.00548524, 0.00548524, 0.00548524, 0.00548524, 0.00548524,\n",
       "        0.0274262 , 0.01097048, 0.01097048, 0.01097048, 0.01097048,\n",
       "        0.00548524, 0.00548524, 0.03291144, 0.00548524, 0.00548524,\n",
       "        0.00548524, 0.00548524, 0.04388192, 0.00548524, 0.0274262 ,\n",
       "        0.00548524, 0.01097048, 0.00548524, 0.00548524, 0.00548524,\n",
       "        0.00548524, 0.00548524, 0.02194096, 0.00548524, 0.11519004,\n",
       "        0.01097048, 0.0822786 , 0.00548524, 0.00548524, 0.00548524,\n",
       "        0.00548524, 0.00548524, 0.00548524, 0.00548524, 0.00548524,\n",
       "        0.00548524, 0.00548524, 0.02194096, 0.01097048, 0.01097048,\n",
       "        0.01645572, 0.01645572, 0.00548524, 0.12067528, 0.01645572,\n",
       "        0.04388192, 0.04388192, 0.01097048, 0.01645572, 0.19746864,\n",
       "        0.01097048, 0.00548524, 0.04388192, 0.01097048, 0.00548524,\n",
       "        0.03839668, 0.00548524, 0.07130812, 0.00548524, 0.01097048,\n",
       "        0.03839668, 0.04388192, 0.00548524, 0.00548524, 0.00548524,\n",
       "        0.00548524, 0.00548524, 0.00548524, 0.03839668, 0.01097048,\n",
       "        0.01097048, 0.0274262 , 0.00548524, 0.00548524, 0.00548524,\n",
       "        0.01097048, 0.00548524, 0.00548524, 0.02194096, 0.00548524,\n",
       "        0.00548524, 0.00548524, 0.00548524, 0.00548524, 0.00548524,\n",
       "        0.00548524, 0.00548524, 0.01645572, 0.02194096, 0.0274262 ,\n",
       "        0.03291144, 0.00548524, 0.20295388, 0.0274262 , 0.01097048,\n",
       "        0.01097048, 0.01645572, 0.02194096, 0.00548524, 0.00548524,\n",
       "        0.00548524, 0.02194096, 0.0274262 , 0.00548524, 0.01097048,\n",
       "        0.01097048, 0.01097048, 0.00548524, 0.00548524, 0.01097048,\n",
       "        0.02194096, 0.00548524, 0.01097048, 0.01097048, 0.01097048,\n",
       "        0.00548524, 0.00548524, 0.01097048, 0.01097048, 0.0548524 ,\n",
       "        0.00548524, 0.01645572, 0.00548524, 0.00548524, 0.00548524,\n",
       "        0.00548524, 0.00548524, 0.00548524, 0.00548524, 0.00548524,\n",
       "        0.00548524, 0.01097048, 0.00548524, 0.0548524 , 0.00548524,\n",
       "        0.00548524, 0.02194096, 0.01645572, 0.00548524, 0.01645572,\n",
       "        0.00548524, 0.00548524, 0.00548524, 0.0274262 , 0.02194096,\n",
       "        0.00548524, 0.01097048, 0.00548524, 0.01097048, 0.00548524,\n",
       "        0.01097048, 0.00548524, 0.0274262 , 0.00548524, 0.00548524,\n",
       "        0.00548524, 0.04936716, 0.02194096, 0.00548524, 0.00548524,\n",
       "        0.0274262 , 0.00548524, 0.04388192, 0.06033764, 0.01097048,\n",
       "        0.01645572, 0.00548524, 0.00548524, 0.00548524, 0.00548524,\n",
       "        0.07130812, 0.0274262 , 0.01097048, 0.00548524, 0.02194096,\n",
       "        0.00548524, 0.00548524, 0.01097048, 0.00548524, 0.00548524,\n",
       "        0.01097048, 0.00548524, 0.00548524, 0.01097048, 0.00548524,\n",
       "        0.02194096, 0.00548524, 0.00548524, 0.00548524, 0.00548524,\n",
       "        0.00548524, 0.00548524, 0.00548524, 0.01097048, 0.04936716,\n",
       "        0.00548524, 0.00548524, 0.00548524, 0.0548524 , 0.01645572,\n",
       "        0.00548524, 0.00548524, 0.00548524, 0.00548524, 0.01097048,\n",
       "        0.00548524, 0.0274262 , 0.00548524, 0.00548524, 0.00548524,\n",
       "        0.00548524, 0.01645572, 0.07679336, 0.06582288, 0.00548524,\n",
       "        0.01645572, 0.01097048, 0.01097048, 0.01097048, 0.02194096,\n",
       "        0.00548524, 0.00548524, 0.00548524, 0.1919834 , 0.04936716,\n",
       "        0.03839668, 0.01097048, 0.00548524, 0.00548524, 0.01097048,\n",
       "        0.00548524, 0.00548524, 0.01097048, 0.01645572, 0.00548524,\n",
       "        0.01645572, 0.00548524, 0.01645572, 0.01097048, 0.11519004,\n",
       "        0.01097048, 0.01097048, 0.09324908, 0.00548524, 0.00548524,\n",
       "        0.00548524, 0.01097048, 0.00548524, 0.01097048, 0.00548524,\n",
       "        0.02194096, 0.0548524 , 0.01097048, 0.03291144, 0.02194096,\n",
       "        0.00548524, 0.02194096, 0.00548524, 0.00548524, 0.04388192,\n",
       "        0.28523247, 0.03839668, 0.00548524, 0.00548524, 0.00548524,\n",
       "        0.00548524, 0.00548524, 0.00548524, 0.00548524, 0.00548524,\n",
       "        0.01097048, 0.00548524, 0.0274262 , 0.00548524]])"
      ]
     },
     "execution_count": 10,
     "metadata": {},
     "output_type": "execute_result"
    }
   ],
   "source": [
    "from sklearn.feature_extraction.text import TfidfVectorizer\n",
    "vectorizer = TfidfVectorizer()\n",
    "tf_idf = vectorizer.fit_transform(data_tf)\n",
    "tf_idf.toarray()"
   ]
  },
  {
   "cell_type": "code",
   "execution_count": 11,
   "id": "468f6848-2fd1-432f-ad93-819df3cd89bf",
   "metadata": {},
   "outputs": [
    {
     "name": "stdout",
     "output_type": "stream",
     "text": [
      "           TF-IDF\n",
      "mu       0.564980\n",
      "đội      0.285232\n",
      "trận     0.202954\n",
      "thủ      0.197469\n",
      "bóng     0.197469\n",
      "đá       0.191983\n",
      "mùa      0.159072\n",
      "mừng     0.153587\n",
      "ko       0.126161\n",
      "chúc     0.126161\n",
      "thắng    0.120675\n",
      "thua     0.115190\n",
      "đấu      0.115190\n",
      "fan      0.098734\n",
      "đầu      0.093249\n",
      "de       0.093249\n",
      "atm      0.087764\n",
      "thành    0.082279\n",
      "công     0.082279\n",
      "ronaldo  0.076793\n",
      "gea      0.076793\n",
      "giải     0.076793\n",
      "đc       0.076793\n",
      "hàng     0.076793\n",
      "vệ       0.071308\n"
     ]
    }
   ],
   "source": [
    "name_tf = pd.DataFrame(tf_idf[0].T.todense(), index=vectorizer.get_feature_names(), columns=[\"TF-IDF\"])\n",
    "result = name_tf.sort_values('TF-IDF', ascending=False)\n",
    "print(result.head(25))"
   ]
  }
 ],
 "metadata": {
  "kernelspec": {
   "display_name": "Python 3",
   "language": "python",
   "name": "python3"
  },
  "language_info": {
   "codemirror_mode": {
    "name": "ipython",
    "version": 3
   },
   "file_extension": ".py",
   "mimetype": "text/x-python",
   "name": "python",
   "nbconvert_exporter": "python",
   "pygments_lexer": "ipython3",
   "version": "3.9.4"
  }
 },
 "nbformat": 4,
 "nbformat_minor": 5
}
